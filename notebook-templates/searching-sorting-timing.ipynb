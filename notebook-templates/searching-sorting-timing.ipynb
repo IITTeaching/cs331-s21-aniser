{
 "cells": [
  {
   "cell_type": "markdown",
   "metadata": {},
   "source": [
    "Searching, Sorting, and Timing\n",
    "==============================\n",
    "\n"
   ]
  },
  {
   "cell_type": "markdown",
   "metadata": {},
   "source": [
    "## Agenda\n",
    "\n"
   ]
  },
  {
   "cell_type": "markdown",
   "metadata": {},
   "source": [
    "1.  Timing\n",
    "2.  Building a timing utility\n",
    "3.  The `timeit` module\n",
    "4.  Drawing plots with `matplotlib`\n",
    "5.  Timing plots\n",
    "6.  Timing examples\n",
    "    *  List indexing\n",
    "    *  Linear search\n",
    "    *  Binary search\n",
    "    *  Insertion sort\n",
    "    *  Bubble sort\n",
    "7. Takeaways\n"
   ]
  },
  {
   "cell_type": "markdown",
   "metadata": {},
   "source": [
    "## 1.  Timing\n",
    "\n",
    "The **time module** contains functions for obtaining and interpreting the current system time."
   ]
  },
  {
   "cell_type": "code",
   "execution_count": 1,
   "metadata": {},
   "outputs": [
    {
     "data": {
      "text/plain": [
       "1613525890.88373"
      ]
     },
     "execution_count": 1,
     "metadata": {},
     "output_type": "execute_result"
    }
   ],
   "source": [
    "import time\n",
    "time.time()"
   ]
  },
  {
   "cell_type": "code",
   "execution_count": 2,
   "metadata": {},
   "outputs": [
    {
     "data": {
      "text/plain": [
       "time.struct_time(tm_year=2021, tm_mon=2, tm_mday=16, tm_hour=19, tm_min=38, tm_sec=12, tm_wday=1, tm_yday=47, tm_isdst=0)"
      ]
     },
     "execution_count": 2,
     "metadata": {},
     "output_type": "execute_result"
    }
   ],
   "source": [
    "time.localtime(time.time())"
   ]
  },
  {
   "cell_type": "markdown",
   "metadata": {},
   "source": [
    "By taking start and stop \"timestamps\", we can measure the runtime of code."
   ]
  },
  {
   "cell_type": "code",
   "execution_count": 3,
   "metadata": {},
   "outputs": [
    {
     "data": {
      "text/plain": [
       "1.005091905593872"
      ]
     },
     "execution_count": 3,
     "metadata": {},
     "output_type": "execute_result"
    }
   ],
   "source": [
    "t1 = time.time()\n",
    "time.sleep(1) # waits for 1 sec\n",
    "t2 = time.time()\n",
    "t2 - t1"
   ]
  },
  {
   "cell_type": "markdown",
   "metadata": {},
   "source": [
    "## 2. Building a timing utility"
   ]
  },
  {
   "cell_type": "code",
   "execution_count": 4,
   "metadata": {},
   "outputs": [],
   "source": [
    "def timeit(fn):\n",
    "    start = time.time()\n",
    "    fn() # times how long this function takes to run\n",
    "    end = time.time()\n",
    "    return end - start"
   ]
  },
  {
   "cell_type": "code",
   "execution_count": 5,
   "metadata": {
    "scrolled": true
   },
   "outputs": [
    {
     "data": {
      "text/plain": [
       "49995000"
      ]
     },
     "execution_count": 5,
     "metadata": {},
     "output_type": "execute_result"
    }
   ],
   "source": [
    "sum(range(10_000))"
   ]
  },
  {
   "cell_type": "code",
   "execution_count": 6,
   "metadata": {},
   "outputs": [
    {
     "data": {
      "text/plain": [
       "0.0004363059997558594"
      ]
     },
     "execution_count": 6,
     "metadata": {},
     "output_type": "execute_result"
    }
   ],
   "source": [
    "timeit(lambda: sum(range(10_000)))"
   ]
  },
  {
   "cell_type": "markdown",
   "metadata": {},
   "source": [
    "To make timings more stable, we can run the passed-in function multiple times:"
   ]
  },
  {
   "cell_type": "code",
   "execution_count": 7,
   "metadata": {},
   "outputs": [],
   "source": [
    "def timeit(fn, number=1):\n",
    "    total = 0\n",
    "    for i in range(number):\n",
    "        start = time.time()\n",
    "        fn()\n",
    "        end = time.time()\n",
    "        total += end - start\n",
    "    return total"
   ]
  },
  {
   "cell_type": "code",
   "execution_count": 74,
   "metadata": {},
   "outputs": [
    {
     "data": {
      "text/plain": [
       "0.1797327995300293"
      ]
     },
     "execution_count": 74,
     "metadata": {},
     "output_type": "execute_result"
    }
   ],
   "source": [
    "timeit(lambda: sum(range(10_000)), number=1000)"
   ]
  },
  {
   "cell_type": "markdown",
   "metadata": {},
   "source": [
    "Python has a built in library for doing what we just did..."
   ]
  },
  {
   "cell_type": "markdown",
   "metadata": {},
   "source": [
    "## 3. The `timeit` module\n",
    "\n",
    "The `timeit` module is a built-in library for measuring the execution of code passed in as a string.\n",
    "- Also supports passing into \"setup\" code that is not timed"
   ]
  },
  {
   "cell_type": "code",
   "execution_count": 9,
   "metadata": {},
   "outputs": [
    {
     "data": {
      "text/plain": [
       "0.18249291699999048"
      ]
     },
     "execution_count": 9,
     "metadata": {},
     "output_type": "execute_result"
    }
   ],
   "source": [
    "import timeit\n",
    "timeit.timeit(\"sum(r)\", \n",
    "              setup = \"r = range(10_000)\", \n",
    "              number=1000)\n",
    "# measures amount of time to run the sum function"
   ]
  },
  {
   "cell_type": "markdown",
   "metadata": {},
   "source": [
    "We can easily use this to gather timings for multiple input values:"
   ]
  },
  {
   "cell_type": "code",
   "execution_count": 9,
   "metadata": {},
   "outputs": [
    {
     "data": {
      "text/plain": [
       "[0.03386866700000013,\n",
       " 0.04177779100000123,\n",
       " 0.043891666999996914,\n",
       " 0.055258541000000605,\n",
       " 0.0692932500000012,\n",
       " 0.08356575000000177,\n",
       " 0.09877258399999889,\n",
       " 0.1145081250000004,\n",
       " 0.13016275000000022]"
      ]
     },
     "execution_count": 9,
     "metadata": {},
     "output_type": "execute_result"
    }
   ],
   "source": [
    "[timeit.timeit(\"sum(r)\", \n",
    "               setup = \"r = range({})\".format(n), # creates range dependant on the value of n\n",
    "               number=1000)\n",
    "  for n in range(1000, 10_000, 1000)] # this is a list comprehension so it returns a list"
   ]
  },
  {
   "cell_type": "markdown",
   "metadata": {},
   "source": [
    "Sometimes we might want to make use of functions defined in our notebook in the timed/setup code passed to `timeit`. We need to use the `globals` argument for this:"
   ]
  },
  {
   "cell_type": "code",
   "execution_count": 77,
   "metadata": {},
   "outputs": [],
   "source": [
    "def fib(n):\n",
    "    if n == 0:\n",
    "        return 0\n",
    "    elif n == 1:\n",
    "        return 1\n",
    "    else:\n",
    "        return fib(n-1) + fib(n-2)"
   ]
  },
  {
   "cell_type": "code",
   "execution_count": 106,
   "metadata": {},
   "outputs": [
    {
     "data": {
      "text/plain": [
       "[0, 1, 1, 2, 3, 5, 8, 13, 21, 34, 55, 89]"
      ]
     },
     "execution_count": 106,
     "metadata": {},
     "output_type": "execute_result"
    }
   ],
   "source": [
    "[fib(n) for n in range(12)]"
   ]
  },
  {
   "cell_type": "code",
   "execution_count": 108,
   "metadata": {},
   "outputs": [
    {
     "data": {
      "text/plain": [
       "[3.254100010963157e-05,\n",
       " 8.262500068667578e-05,\n",
       " 0.0001327499994658865,\n",
       " 0.00029958400045870803,\n",
       " 0.0003945420003219624,\n",
       " 0.0006609170004594489,\n",
       " 0.0016709159999663825,\n",
       " 0.0026752080002552248,\n",
       " 0.004419332999532344,\n",
       " 0.005617333000373037,\n",
       " 0.006460040999627381]"
      ]
     },
     "execution_count": 108,
     "metadata": {},
     "output_type": "execute_result"
    }
   ],
   "source": [
    "[timeit.timeit('fib({})'.format(n),\n",
    "               number=100,\n",
    "               globals=globals()) # recall: \"globals()\" returns a dictionary of everything\n",
    "                                  # defined in this module; timeit needs it to access `fib`\n",
    "                                  # not defined in the timeit module\n",
    " for n in range(1, 12)]"
   ]
  },
  {
   "cell_type": "markdown",
   "metadata": {},
   "source": [
    "## 4. Drawing plots with `matplotlib`"
   ]
  },
  {
   "cell_type": "markdown",
   "metadata": {},
   "source": [
    "The [matplotlib library](https://matplotlib.org/) supports the creation of all sorts of visualizations. We will use it for drawing simple 2-dimensional plots.\n",
    "\n",
    "The primary plotting function we will use is matplotlib.pyplot.plot [(full documentation here)](https://matplotlib.org/api/_as_gen/matplotlib.pyplot.plot.html#matplotlib.pyplot.plot), which, when passed two \"array-like\" objects of equal length, will interpret and plot their contents as x and y axis coordinates. We will generally use tuples, lists, and ranges as array-like objects. Note that generators are not considered array-like by matplotlib.\n",
    "\n",
    "Some examples (note that we use a semicolon after the call to plot to hide its return value):"
   ]
  },
  {
   "cell_type": "code",
   "execution_count": 10,
   "metadata": {},
   "outputs": [],
   "source": [
    "import matplotlib.pyplot as plt\n",
    "import numpy as np\n",
    "import math\n",
    "\n",
    "%matplotlib inline\n",
    "plt.rcParams['figure.figsize'] = [10, 6] # set size of plot"
   ]
  },
  {
   "cell_type": "code",
   "execution_count": 4,
   "metadata": {},
   "outputs": [
    {
     "data": {
      "image/png": "[encoded data removed]",
      "text/plain": [
       "<Figure size 720x432 with 1 Axes>"
      ]
     },
     "metadata": {
      "needs_background": "light"
     },
     "output_type": "display_data"
    }
   ],
   "source": [
    "plt.plot([1, 2, 3, 4, 5], [50, 20, 30, 10, 40]);"
   ]
  },
  {
   "cell_type": "code",
   "execution_count": 8,
   "metadata": {},
   "outputs": [
    {
     "data": {
      "image/png": "[encoded data removed]",
      "text/plain": [
       "<Figure size 720x432 with 1 Axes>"
      ]
     },
     "metadata": {
      "needs_background": "light"
     },
     "output_type": "display_data"
    }
   ],
   "source": [
    "xs = range(11)\n",
    "ys = [x*2 for x in xs] # all evens from 0-10 inclusive\n",
    "plt.plot(xs, ys);"
   ]
  },
  {
   "cell_type": "markdown",
   "metadata": {},
   "source": [
    "We can also provide an optional format string to plot, which controls marker, line-style, and color for the plot.\n",
    "\n",
    "Here's a shortened list of options copied from the [full documentation](https://matplotlib.org/api/_as_gen/matplotlib.pyplot.plot.html#matplotlib.pyplot.plot) of plot:\n",
    "\n",
    "**Markers**\n",
    "* `.` : point marker\n",
    "* `o` : circle marker\n",
    "* `s` : square marker\n",
    "* `d` : diamond marker\n",
    "\n",
    "**Line-styles**\n",
    "* `-` : solid line style\n",
    "* `--` : dashed line style\n",
    "* `:` : dotted line style\n",
    "\n",
    "**Colors**\n",
    "* `k` : black\n",
    "* `r` : red\n",
    "* `b` : blue\n",
    "* `g` : green\n",
    "* `y` : yellow\n",
    "* `c` : cyan\n",
    "\n",
    "Here are the above plots with some color and styling (if we omit a line style no connecting line is drawn between data points):"
   ]
  },
  {
   "cell_type": "code",
   "execution_count": 14,
   "metadata": {},
   "outputs": [
    {
     "data": {
      "image/png": "[encoded data removed]",
      "text/plain": [
       "<Figure size 720x432 with 1 Axes>"
      ]
     },
     "metadata": {
      "needs_background": "light"
     },
     "output_type": "display_data"
    }
   ],
   "source": [
    "plt.plot([1, 2, 3, 4, 5], [50, 20, 30, 10, 40], 's:c');"
   ]
  },
  {
   "cell_type": "code",
   "execution_count": null,
   "metadata": {},
   "outputs": [],
   "source": [
    "xs = range(11)\n",
    "ys = [x*2 for x in xs]\n",
    "plt.plot(xs, ys, 'dg');"
   ]
  },
  {
   "cell_type": "markdown",
   "metadata": {},
   "source": [
    "Instead of regular `range` objects, which only allow for integral start/stop/step values, we typically prefer to use the [numpy library](https://numpy.org/)'s `arange` and `linspace` functions with matplotlib. `arange` is like range, except we can use floating point values for start/stop/step. `linspace` lets us specify start and stop values (both inclusive), and the number of values to return in that interval.\n",
    "\n",
    "Examples of `arange` and `linspace` calls (note that both functions return numpy arrays, which are iterable and can be passed to `plot`):"
   ]
  },
  {
   "cell_type": "code",
   "execution_count": 15,
   "metadata": {},
   "outputs": [
    {
     "data": {
      "text/plain": [
       "array([0.5, 0.6, 0.7, 0.8, 0.9, 1. , 1.1, 1.2, 1.3, 1.4, 1.5, 1.6, 1.7,\n",
       "       1.8, 1.9, 2. , 2.1, 2.2, 2.3, 2.4])"
      ]
     },
     "execution_count": 15,
     "metadata": {},
     "output_type": "execute_result"
    }
   ],
   "source": [
    "np.arange(0.5, 2.5, 0.1) # allows for floating point values"
   ]
  },
  {
   "cell_type": "code",
   "execution_count": 20,
   "metadata": {},
   "outputs": [
    {
     "data": {
      "text/plain": [
       "array([10.  , 10.25, 10.5 , 10.75, 11.  , 11.25, 11.5 , 11.75, 12.  ,\n",
       "       12.25, 12.5 , 12.75, 13.  , 13.25, 13.5 , 13.75, 14.  , 14.25,\n",
       "       14.5 , 14.75, 15.  , 15.25, 15.5 , 15.75, 16.  , 16.25, 16.5 ,\n",
       "       16.75, 17.  , 17.25, 17.5 , 17.75, 18.  , 18.25, 18.5 , 18.75,\n",
       "       19.  , 19.25, 19.5 , 19.75, 20.  ])"
      ]
     },
     "execution_count": 20,
     "metadata": {},
     "output_type": "execute_result"
    }
   ],
   "source": [
    "np.linspace(10, 20, 41) # specifies (beginning, end, and the number of values wanted between them)"
   ]
  },
  {
   "cell_type": "code",
   "execution_count": 24,
   "metadata": {},
   "outputs": [
    {
     "data": {
      "text/plain": [
       "array([     1,   1011,   2021,   3031,   4041,   5051,   6061,   7071,\n",
       "         8081,   9091,  10101,  11112,  12122,  13132,  14142,  15152,\n",
       "        16162,  17172,  18182,  19192,  20202,  21212,  22223,  23233,\n",
       "        24243,  25253,  26263,  27273,  28283,  29293,  30303,  31313,\n",
       "        32323,  33334,  34344,  35354,  36364,  37374,  38384,  39394,\n",
       "        40404,  41414,  42424,  43434,  44445,  45455,  46465,  47475,\n",
       "        48485,  49495,  50505,  51515,  52525,  53535,  54545,  55556,\n",
       "        56566,  57576,  58586,  59596,  60606,  61616,  62626,  63636,\n",
       "        64646,  65656,  66667,  67677,  68687,  69697,  70707,  71717,\n",
       "        72727,  73737,  74747,  75757,  76767,  77778,  78788,  79798,\n",
       "        80808,  81818,  82828,  83838,  84848,  85858,  86868,  87878,\n",
       "        88889,  89899,  90909,  91919,  92929,  93939,  94949,  95959,\n",
       "        96969,  97979,  98989, 100000])"
      ]
     },
     "execution_count": 24,
     "metadata": {},
     "output_type": "execute_result"
    }
   ],
   "source": [
    "np.linspace(1, 100_000, 100, dtype=int)\n",
    "# we can specify the data type to coerce values into integers\n",
    "# forces each value to be that type"
   ]
  },
  {
   "cell_type": "markdown",
   "metadata": {},
   "source": [
    "`plot` can be called multiple times in the same cell to draw multiple lines in the same chart. Below we use this facility together with `linspace` and a handful of list comprehensions to plot some common runtime complexity bounding functions (more on that soon) over a small interval:"
   ]
  },
  {
   "cell_type": "code",
   "execution_count": 26,
   "metadata": {
    "scrolled": true
   },
   "outputs": [
    {
     "data": {
      "image/png": "[encoded data removed]",
      "text/plain": [
       "<Figure size 720x432 with 1 Axes>"
      ]
     },
     "metadata": {
      "needs_background": "light"
     },
     "output_type": "display_data"
    }
   ],
   "source": [
    "count = 100\n",
    "xs = np.linspace(0.1, 4, count) # generate a range of x value from 1-4\n",
    "ys_const        = [1] * count # creates a giant list of the value 1\n",
    "ys_log          = [math.log(x) for x in xs]\n",
    "ys_linear       = [x for x in xs]\n",
    "ys_linearithmic = [x * math.log(x) for x in xs]\n",
    "ys_quadratic    = [x**2 for x in xs]\n",
    "ys_exponential  = [2**x for x in xs]\n",
    "\n",
    "plt.plot(xs, ys_const, 'c')\n",
    "plt.plot(xs, ys_log, 'r')\n",
    "plt.plot(xs, ys_linear, 'b')\n",
    "plt.plot(xs, ys_linearithmic, 'g')\n",
    "plt.plot(xs, ys_quadratic, 'y');\n",
    "plt.plot(xs, ys_exponential, 'm');"
   ]
  },
  {
   "cell_type": "markdown",
   "metadata": {},
   "source": [
    "## 5. Plotting Timing\n",
    "\n",
    "Plotting timing data collected from functions may help give us a sense of how their runtimes scale with increasing input sizes."
   ]
  },
  {
   "cell_type": "code",
   "execution_count": 33,
   "metadata": {},
   "outputs": [
    {
     "data": {
      "text/plain": [
       "array([   10,   213,   417,   621,   825,  1029,  1233,  1437,  1641,\n",
       "        1844,  2048,  2252,  2456,  2660,  2864,  3068,  3272,  3475,\n",
       "        3679,  3883,  4087,  4291,  4495,  4699,  4903,  5106,  5310,\n",
       "        5514,  5718,  5922,  6126,  6330,  6534,  6737,  6941,  7145,\n",
       "        7349,  7553,  7757,  7961,  8165,  8368,  8572,  8776,  8980,\n",
       "        9184,  9388,  9592,  9796, 10000])"
      ]
     },
     "execution_count": 33,
     "metadata": {},
     "output_type": "execute_result"
    }
   ],
   "source": [
    "np.linspace(10, 10_000, 50, dtype=int)"
   ]
  },
  {
   "cell_type": "code",
   "execution_count": 32,
   "metadata": {},
   "outputs": [
    {
     "data": {
      "image/png": "[encoded data removed]",
      "text/plain": [
       "<Figure size 720x432 with 1 Axes>"
      ]
     },
     "metadata": {
      "needs_background": "light"
     },
     "output_type": "display_data"
    }
   ],
   "source": [
    "# runtimes for sum for increasing sizes of input\n",
    "\n",
    "ns = np.linspace(10, 10_000, 50, dtype=int)\n",
    "ts = [timeit.timeit('sum(range({}))'.format(n), number=100)\n",
    "      for n in ns]\n",
    "\n",
    "plt.plot(ns, ts, 'or');"
   ]
  },
  {
   "cell_type": "markdown",
   "metadata": {},
   "source": [
    "Clearly, the runtime of `sum` is directly proportional to the number of values it operates on.\n",
    "\n",
    "If we assume a linear relationship, we can compute the average slope between adjacent data points to come up with an line of approximate fit that may help us predict the runtime of `sum`."
   ]
  },
  {
   "cell_type": "code",
   "execution_count": 36,
   "metadata": {},
   "outputs": [],
   "source": [
    "# find sum of slopes, then divide to find avergae slope\n",
    "total = 0\n",
    "for i in range(len(ns)-1):\n",
    "    x0, x1 = ns[i:i+2]\n",
    "    y0, y1 = ts[i:i+2]\n",
    "    slope = (y1-y0) / (x1-x0)\n",
    "    total += slope # recall: slope is (rise/run)\n",
    "avg_slope = total / (len(ns)-1)"
   ]
  },
  {
   "cell_type": "code",
   "execution_count": 38,
   "metadata": {
    "scrolled": true
   },
   "outputs": [
    {
     "data": {
      "image/png": "[encoded data removed]",
      "text/plain": [
       "<Figure size 720x432 with 1 Axes>"
      ]
     },
     "metadata": {
      "needs_background": "light"
     },
     "output_type": "display_data"
    }
   ],
   "source": [
    "plt.plot(ns, ts, 'or')\n",
    "plt.plot(ns, [avg_slope*n for n in ns], '--b');"
   ]
  },
  {
   "cell_type": "code",
   "execution_count": 39,
   "metadata": {},
   "outputs": [
    {
     "name": "stdout",
     "output_type": "stream",
     "text": [
      "Runtime of sum(range(          1)) ~  0.00 s\n",
      "Runtime of sum(range( 10,000,000)) ~  0.14 s\n",
      "Runtime of sum(range( 20,000,000)) ~  0.28 s\n",
      "Runtime of sum(range( 30,000,000)) ~  0.42 s\n",
      "Runtime of sum(range( 40,000,000)) ~  0.56 s\n",
      "Runtime of sum(range( 50,000,000)) ~  0.70 s\n",
      "Runtime of sum(range( 60,000,000)) ~  0.84 s\n",
      "Runtime of sum(range( 70,000,000)) ~  0.98 s\n",
      "Runtime of sum(range( 80,000,000)) ~  1.12 s\n",
      "Runtime of sum(range( 90,000,000)) ~  1.26 s\n",
      "Runtime of sum(range(100,000,000)) ~  1.40 s\n"
     ]
    }
   ],
   "source": [
    "# use line to make prediction\n",
    "# i.e., for input of size N, runtime is estimated at:\n",
    "for n in np.linspace(1, 100_000_000, 11, dtype=int):\n",
    "    print('Runtime of sum(range({:>11,})) ~ {:>5.2f} s'.format(n, avg_slope*n/100))"
   ]
  },
  {
   "cell_type": "markdown",
   "metadata": {},
   "source": [
    "We can also use `polyfit` to compute a best-fitting polynomial function of arbitrary degree for our data:"
   ]
  },
  {
   "cell_type": "code",
   "execution_count": 41,
   "metadata": {},
   "outputs": [
    {
     "data": {
      "image/png": "[encoded data removed]",
      "text/plain": [
       "<Figure size 720x432 with 1 Axes>"
      ]
     },
     "metadata": {
      "needs_background": "light"
     },
     "output_type": "display_data"
    }
   ],
   "source": [
    "degree = 10 # biggest polynomial power\n",
    "coeffs = np.polyfit(ns, ts, degree)\n",
    "p = np.poly1d(coeffs)\n",
    "plt.plot(ns, ts, 'or')\n",
    "plt.plot(ns, [p(n) for n in ns], '-b');"
   ]
  },
  {
   "cell_type": "markdown",
   "metadata": {},
   "source": [
    "Is there a downside to this approach?\n",
    "* Yes! It's a horrible estimate.\n",
    "* Not accurate representation of the growth of the function"
   ]
  },
  {
   "cell_type": "code",
   "execution_count": 42,
   "metadata": {},
   "outputs": [
    {
     "name": "stdout",
     "output_type": "stream",
     "text": [
      "Runtime of sum(range(          1)) ~ -0.00 s\n",
      "Runtime of sum(range( 10,000,000)) ~ 1224671532716550455407971139584.00 s\n",
      "Runtime of sum(range( 20,000,000)) ~ 1257178504510908787840996209590272.00 s\n",
      "Runtime of sum(range( 30,000,000)) ~ 72555204714623838994422971911634944.00 s\n",
      "Runtime of sum(range( 40,000,000)) ~ 1288948123722046086001900914837815296.00 s\n",
      "Runtime of sum(range( 50,000,000)) ~ 12007242006062595681514708615993229312.00 s\n",
      "Runtime of sum(range( 60,000,000)) ~ 74357968996887124948706147310562705408.00 s\n",
      "Runtime of sum(range( 70,000,000)) ~ 347413504460930571120595600768195624960.00 s\n",
      "Runtime of sum(range( 80,000,000)) ~ 1320701362440466443536574612554689544192.00 s\n",
      "Runtime of sum(range( 90,000,000)) ~ 4289036709219121544476469169122883665920.00 s\n",
      "Runtime of sum(range(100,000,000)) ~ 12301514959603223611936854996743752777728.00 s\n"
     ]
    }
   ],
   "source": [
    "# i.e., for input of size N, runtime is estimated at:\n",
    "for n in np.linspace(1, 100_000_000, 11, dtype=int):\n",
    "    print('Runtime of sum(range({:>11,})) ~ {:>5.2f} s'.format(n, p(n)/100))"
   ]
  },
  {
   "cell_type": "markdown",
   "metadata": {},
   "source": [
    "Choosing an ill-fitting function will likely result in inaccurate runtime predictions. Worse, inaccuracies are compounded as input sizes grow large!\n",
    "\n",
    "How do we know what class of function to use (e.g., linear, nth-degree polynomial, exponential) for modeling the runtime behavior of algorithms?\n",
    "\n",
    "Can we reliably determine this through empirical observation?\n",
    "\n",
    "!! It's important to think about algorithms in the long-run to understand their behavior !!"
   ]
  },
  {
   "cell_type": "markdown",
   "metadata": {},
   "source": [
    "## 6. Timing Examples"
   ]
  },
  {
   "cell_type": "markdown",
   "metadata": {},
   "source": [
    "### Built-in list indexing\n",
    "What is the runtime behavior of list-indexing?"
   ]
  },
  {
   "cell_type": "code",
   "execution_count": 12,
   "metadata": {
    "scrolled": true
   },
   "outputs": [
    {
     "data": {
      "image/png": "[encoded data removed]",
      "text/plain": [
       "<Figure size 720x432 with 1 Axes>"
      ]
     },
     "metadata": {
      "needs_background": "light"
     },
     "output_type": "display_data"
    }
   ],
   "source": [
    "lst = list(range(1_000_000)) # creates list with a million elements\n",
    "ns = np.linspace(0, len(lst), 1000, endpoint=False, dtype=int) # creates indices with elements to look up\n",
    "ts = [timeit.timeit('_ = lst[{}]'.format(n),\n",
    "                    globals=globals(), \n",
    "                    number=10000) \n",
    "      for n in ns]\n",
    "\n",
    "plt.plot(ns, ts, 'or');"
   ]
  },
  {
   "cell_type": "markdown",
   "metadata": {},
   "source": [
    "Observation: accessing an element in a list by index -- regardless of where in the list the element is located --  takes a constant\n",
    "amount of time.\n",
    "\n",
    "How? **A Python list uses an array as its underlying data storage\n",
    "mechanism.** To access an element in an array, the interpreter:\n",
    "\n",
    "1.  Computes an *offset* into the array by multiplying the element's\n",
    "    index by the size of each array entry (which are uniformly sized,\n",
    "    since they are merely *references* to the actual elements)\n",
    "2.  Adds the offset to the *base address* of the array\n",
    "3.  Accesses the reference and uses it to load the associated element\n",
    "\n",
    "Each of the steps above can be performed in constant time.\n",
    "\n"
   ]
  },
  {
   "cell_type": "markdown",
   "metadata": {},
   "source": [
    "### Linear Search\n",
    "\n"
   ]
  },
  {
   "cell_type": "markdown",
   "metadata": {},
   "source": [
    "What is the runtime behavior of searching for an element in an unsorted list?\n",
    "\n",
    "Has a runtime of O(n)\n"
   ]
  },
  {
   "cell_type": "code",
   "execution_count": 13,
   "metadata": {},
   "outputs": [],
   "source": [
    "def contains(lst, x):\n",
    "    for i in range(len(lst)):\n",
    "        if x == lst[i]:\n",
    "            return True\n",
    "    return False"
   ]
  },
  {
   "cell_type": "code",
   "execution_count": 14,
   "metadata": {
    "scrolled": true
   },
   "outputs": [
    {
     "data": {
      "text/plain": [
       "True"
      ]
     },
     "execution_count": 14,
     "metadata": {},
     "output_type": "execute_result"
    }
   ],
   "source": [
    "contains(lst, 99)"
   ]
  },
  {
   "cell_type": "code",
   "execution_count": 15,
   "metadata": {
    "scrolled": true
   },
   "outputs": [
    {
     "data": {
      "text/plain": [
       "False"
      ]
     },
     "execution_count": 15,
     "metadata": {},
     "output_type": "execute_result"
    }
   ],
   "source": [
    "contains(lst, -3)"
   ]
  },
  {
   "cell_type": "code",
   "execution_count": 82,
   "metadata": {},
   "outputs": [
    {
     "name": "stdout",
     "output_type": "stream",
     "text": [
      "[86, 13, 69, 40, 38, 62, 7, 3, 72, 90, 60, 76, 4, 56, 23, 2, 21, 87, 99, 22, 26, 14, 54, 44, 1, 82, 96, 30, 81, 15, 53, 94, 71, 17, 55, 36, 85, 18, 9, 70, 84, 89, 25, 41, 10, 11, 59, 68, 63, 73, 0, 51, 80, 95, 45, 57, 75, 58, 47, 77, 46, 49, 27, 66, 8, 12, 52, 37, 88, 79, 35, 29, 34, 48, 28, 93, 92, 67, 83, 65, 20, 33, 42, 78, 32, 6, 24, 43, 5, 98, 39, 74, 31, 97, 19, 64, 61, 91, 16, 50]\n"
     ]
    },
    {
     "data": {
      "text/plain": [
       "44"
      ]
     },
     "execution_count": 82,
     "metadata": {},
     "output_type": "execute_result"
    }
   ],
   "source": [
    "import random\n",
    "lst = list(range(100))\n",
    "random.shuffle(lst)\n",
    "print(lst)\n",
    "contains(lst, 10)"
   ]
  },
  {
   "cell_type": "code",
   "execution_count": 83,
   "metadata": {
    "scrolled": true
   },
   "outputs": [
    {
     "data": {
      "image/png": "[encoded data removed]",
      "text/plain": [
       "<Figure size 720x432 with 1 Axes>"
      ]
     },
     "metadata": {
      "needs_background": "light"
     },
     "output_type": "display_data"
    }
   ],
   "source": [
    "# runtimes when searching for a present element in a randomly shuffled list\n",
    "\n",
    "ns = np.linspace(10, 10_000, 100, dtype=int)\n",
    "ts = [timeit.timeit('contains(lst, 0)', \n",
    "                    setup='lst=list(range({})); random.shuffle(lst)'.format(n),\n",
    "                    globals=globals(),\n",
    "                    number=100)\n",
    "      for n in ns]\n",
    "\n",
    "plt.plot(ns, ts, 'or');"
   ]
  },
  {
   "cell_type": "markdown",
   "metadata": {},
   "source": [
    "Worst Case Scenario is that the element is not present. "
   ]
  },
  {
   "cell_type": "code",
   "execution_count": 84,
   "metadata": {},
   "outputs": [
    {
     "data": {
      "image/png": "[encoded data removed]",
      "text/plain": [
       "<Figure size 720x432 with 1 Axes>"
      ]
     },
     "metadata": {
      "needs_background": "light"
     },
     "output_type": "display_data"
    }
   ],
   "source": [
    "# runtimes when searching for an element that is not present\n",
    "\n",
    "ns = np.linspace(1_000, 10_000, 100, dtype=int)\n",
    "ts = [timeit.timeit('contains(lst, -1)', \n",
    "                    setup='lst=list(range({}))'.format(n),\n",
    "                    globals=globals(),\n",
    "                    number=100)\n",
    "      for n in ns]\n",
    "\n",
    "plt.plot(ns, ts, 'or');\n"
   ]
  },
  {
   "cell_type": "markdown",
   "metadata": {},
   "source": [
    "* Takes longer if index in farther back in the list\n",
    "    * timing depends on the number of iterations of the loop\n",
    "    * because we stop earlier when we find the element\n",
    "* longest possible timing is if element is not in list\n",
    "* results in linear runtime growth: O(n)"
   ]
  },
  {
   "cell_type": "markdown",
   "metadata": {},
   "source": [
    "### Binary search\n",
    "Task: to locate an element with a given value in a list (array) whose contents are sorted in ascending order.\n",
    "\n",
    "Breaks down a larger problem into a smaller problem\n",
    "* Starts with middle index\n",
    "    * if number is higher, excludes lower half\n",
    "    * if number is lower, excludes lower half\n",
    "* Continues this pattern continually breaking down non-excluded portion into smaller chunks\n",
    "\n",
    "Has a runtime of: T(n) = log(n)\n",
    "* Scales really well for larger inputs\n",
    "* Very efficient"
   ]
  },
  {
   "cell_type": "code",
   "execution_count": 1,
   "metadata": {},
   "outputs": [],
   "source": [
    "def contains(lst, x):\n",
    "    # assume that lst is sorted!!!\n",
    "    lo = 0\n",
    "    hi = len(lst) - 1\n",
    "    while lo <= hi:\n",
    "        mid = (lo + hi) // 2\n",
    "        if lst[mid] == x:\n",
    "            return True\n",
    "        elif x < lst[mid]: # removes 2nd half\n",
    "            hi = mid - 1\n",
    "        else: # x > lst[mid] # removes 1st half\n",
    "            lo = mid + 1\n",
    "    return False"
   ]
  },
  {
   "cell_type": "code",
   "execution_count": 7,
   "metadata": {},
   "outputs": [
    {
     "data": {
      "text/plain": [
       "False"
      ]
     },
     "execution_count": 7,
     "metadata": {},
     "output_type": "execute_result"
    }
   ],
   "source": [
    "lst = list(range(1000))\n",
    "contains(lst, 1001)"
   ]
  },
  {
   "cell_type": "code",
   "execution_count": 11,
   "metadata": {},
   "outputs": [
    {
     "data": {
      "image/png": "[encoded data removed]",
      "text/plain": [
       "<Figure size 720x432 with 1 Axes>"
      ]
     },
     "metadata": {
      "needs_background": "light"
     },
     "output_type": "display_data"
    }
   ],
   "source": [
    "# runtimes when searching for different values in a fixed-size list\n",
    "\n",
    "lst = list(range(1000))\n",
    "ns = range(1000)\n",
    "ts = [timeit.timeit('contains(lst, {})'.format(x), \n",
    "                    globals=globals(), \n",
    "                    number=1000)\n",
    "      for x in range(1000)]\n",
    "\n",
    "plt.plot(ns, ts, 'or');"
   ]
  },
  {
   "cell_type": "code",
   "execution_count": 12,
   "metadata": {},
   "outputs": [
    {
     "data": {
      "image/png": "[encoded data removed]",
      "text/plain": [
       "<Figure size 720x432 with 1 Axes>"
      ]
     },
     "metadata": {
      "needs_background": "light"
     },
     "output_type": "display_data"
    }
   ],
   "source": [
    "# runtimes when searching for an edge-value in lists of increasing size\n",
    "\n",
    "ns = np.linspace(10, 10_000, 100, dtype=int)\n",
    "ts = [timeit.timeit('contains(lst, 0)', \n",
    "                    setup='lst=list(range({}))'.format(n),\n",
    "                    globals=globals(),\n",
    "                    number=1000)\n",
    "      for n in ns]\n",
    "\n",
    "plt.plot(ns, ts, 'or');"
   ]
  },
  {
   "cell_type": "markdown",
   "metadata": {},
   "source": [
    "### Insertion sort\n",
    "\n"
   ]
  },
  {
   "cell_type": "markdown",
   "metadata": {},
   "source": [
    "Task: to sort the values in a given list (array) in ascending order.\n",
    "\n"
   ]
  },
  {
   "cell_type": "code",
   "execution_count": 1,
   "metadata": {},
   "outputs": [],
   "source": [
    "import random\n",
    "  lst = list(range(1000))\n",
    "  random.shuffle(lst)"
   ]
  },
  {
   "cell_type": "code",
   "execution_count": 1,
   "metadata": {},
   "outputs": [],
   "source": [
    "plt.plot(lst, 'ro')\n",
    "  plt.show()"
   ]
  },
  {
   "cell_type": "code",
   "execution_count": 1,
   "metadata": {},
   "outputs": [],
   "source": [
    "def insertion_sort(lst):\n",
    "      pass"
   ]
  },
  {
   "cell_type": "code",
   "execution_count": 1,
   "metadata": {},
   "outputs": [],
   "source": [
    "insertion_sort(lst)"
   ]
  },
  {
   "cell_type": "code",
   "execution_count": 1,
   "metadata": {},
   "outputs": [],
   "source": [
    "plt.plot(lst, 'ro')\n",
    "  plt.show()"
   ]
  },
  {
   "cell_type": "code",
   "execution_count": 1,
   "metadata": {},
   "outputs": [],
   "source": [
    "import timeit\n",
    "  import random\n",
    "  times = [timeit.timeit(stmt='insertion_sort(lst)',\n",
    "                         setup='lst=list(range({})); random.shuffle(lst)'.format(size),\n",
    "                         globals=globals(),\n",
    "                         number=1)\n",
    "           for size in range(100, 5000, 250)]"
   ]
  },
  {
   "cell_type": "code",
   "execution_count": 1,
   "metadata": {},
   "outputs": [],
   "source": [
    "plt.plot(times, 'ro')\n",
    "  plt.show()"
   ]
  }
 ],
 "metadata": {
  "kernelspec": {
   "display_name": "Python 3",
   "language": "python",
   "name": "python3"
  },
  "language_info": {
   "codemirror_mode": {
    "name": "ipython",
    "version": 3
   },
   "file_extension": ".py",
   "mimetype": "text/x-python",
   "name": "python",
   "nbconvert_exporter": "python",
   "pygments_lexer": "ipython3",
   "version": "3.8.5"
  },
  "name": "searching-sorting-timing.ipynb",
  "org": null
 },
 "nbformat": 4,
 "nbformat_minor": 1
}
