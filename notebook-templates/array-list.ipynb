{
 "cells": [
  {
   "cell_type": "markdown",
   "metadata": {},
   "source": [
    "The Array-Backed List\n",
    "=====================\n",
    "\n"
   ]
  },
  {
   "cell_type": "markdown",
   "metadata": {},
   "source": [
    "## Agenda\n",
    "\n"
   ]
  },
  {
   "cell_type": "markdown",
   "metadata": {},
   "source": [
    "1.  The List **Abstract Data Type** (ADT)\n",
    "2.  A List **Data Structure**\n",
    "3.  Our List API\n",
    "4.  Getting started: how to store our data?\n",
    "5.  Built-in `list` as array\n",
    "6.  The `ArrayList` data structure\n",
    "\n"
   ]
  },
  {
   "cell_type": "markdown",
   "metadata": {},
   "source": [
    "## 1.  The List **Abstract Data Type** (ADT)\n",
    "\n"
   ]
  },
  {
   "cell_type": "markdown",
   "metadata": {},
   "source": [
    "An **abstract data type (ADT)** defines a *conceptual model* for how data\n",
    "may be stored and accessed.\n",
    "\n",
    "A **list ADT** is a data container where:\n",
    "\n",
    "-   values are ordered in a *sequence*\n",
    "-   each value has at most one preceding and one succeeding value\n",
    "-   a given value may appear more than once in a list\n",
    "\n",
    "Other common ADTs (some of which we'll explore later) include:\n",
    "\n",
    "-   Stacks\n",
    "-   Queues\n",
    "-   Priority Queues\n",
    "-   Maps\n",
    "-   Graphs\n",
    "\n"
   ]
  },
  {
   "cell_type": "markdown",
   "metadata": {},
   "source": [
    "## 2.  A List **Data Structure**\n",
    "\n"
   ]
  },
  {
   "cell_type": "markdown",
   "metadata": {},
   "source": [
    "A **list data structure** is a *concrete implementation* of the list ADT\n",
    "in some programming language, which, in addition to adhering to the\n",
    "basic premises of the ADT, will also typically support operations that:\n",
    "\n",
    "-   access values in the list by their position (index)\n",
    "-   append and insert new values into the list\n",
    "-   remove values from the list\n",
    "\n",
    "The implementation of any data structure will generally rely on simpler,\n",
    "constituent data types (e.g., \"primitive\" types offered by the\n",
    "language), the choice of which may affect the runtime complexities of\n",
    "said operations.\n",
    "\n"
   ]
  },
  {
   "cell_type": "markdown",
   "metadata": {},
   "source": [
    "## 3.  The List API\n",
    "\n"
   ]
  },
  {
   "cell_type": "markdown",
   "metadata": {},
   "source": [
    "The operations we'll be building into our list data structures will be\n",
    "based on the\n",
    "[common](https://docs.python.org/3.6/library/stdtypes.html#common-sequence-operations)\n",
    "and\n",
    "[mutable](https://docs.python.org/3.6/library/stdtypes.html#mutable-sequence-types)\n",
    "sequence operations defined by the Python library.\n",
    "\n"
   ]
  },
  {
   "cell_type": "code",
   "execution_count": 1,
   "metadata": {},
   "outputs": [],
   "source": [
    "class List:\n",
    "    ### subscript-based access ###\n",
    "\n",
    "    def __getitem__(self, idx):\n",
    "        \"\"\"Implements `x = self[idx]`\"\"\"\n",
    "        pass\n",
    "\n",
    "    def __setitem__(self, idx, value):\n",
    "        \"\"\"Implements `self[idx] = x`\"\"\"\n",
    "        pass\n",
    "\n",
    "    def __delitem__(self, idx):\n",
    "        \"\"\"Implements `del self[idx]`\"\"\"\n",
    "        pass\n",
    "\n",
    "    ### stringification ###\n",
    "\n",
    "    def __repr__(self):\n",
    "        \"\"\"Supports inspection\"\"\"\n",
    "        return '[]'\n",
    "\n",
    "    def __str__(self):\n",
    "        \"\"\"Implements `str(self)`\"\"\"\n",
    "        return '[]'\n",
    "\n",
    "    ### single-element manipulation ###\n",
    "\n",
    "    def append(self, value):\n",
    "        pass\n",
    "\n",
    "    def insert(self, idx, value):\n",
    "        pass\n",
    "\n",
    "    def pop(self, idx=-1):\n",
    "        pass\n",
    "\n",
    "    def remove(self, value):\n",
    "        pass\n",
    "\n",
    "    ### predicates (T/F queries) ###\n",
    "\n",
    "    def __eq__(self, other):\n",
    "        \"\"\"Implements `self == other`\"\"\"\n",
    "        return True\n",
    "\n",
    "    def __contains__(self, value):\n",
    "        \"\"\"Implements `val in self`\"\"\"\n",
    "        return True\n",
    "\n",
    "    ### queries ###\n",
    "\n",
    "    def __len__(self):\n",
    "        \"\"\"Implements `len(self)`\"\"\"\n",
    "        return len(self.data)\n",
    "\n",
    "    def min(self):\n",
    "        pass\n",
    "\n",
    "    def max(self):\n",
    "        pass\n",
    "\n",
    "    def index(self, value, i, j):\n",
    "        pass\n",
    "\n",
    "    def count(self, value):\n",
    "        pass\n",
    "\n",
    "    ### bulk operations ###\n",
    "\n",
    "    def __add__(self, other):\n",
    "        \"\"\"Implements `self + other_array_list`\"\"\"\n",
    "        return self\n",
    "\n",
    "    def clear(self):\n",
    "        pass\n",
    "\n",
    "    def copy(self):\n",
    "        pass\n",
    "\n",
    "    def extend(self, other):\n",
    "        pass\n",
    "\n",
    "    ### iteration ###\n",
    "\n",
    "    def __iter__(self):\n",
    "        \"\"\"Supports iteration (via `iter(self)`)\"\"\"\n",
    "        pass"
   ]
  },
  {
   "cell_type": "markdown",
   "metadata": {},
   "source": [
    "## 4.  Getting started: how to store our data?\n",
    "\n"
   ]
  },
  {
   "cell_type": "code",
   "execution_count": 22,
   "metadata": {},
   "outputs": [],
   "source": [
    "class List:\n",
    "    def append(self, value):\n",
    "        self.x = value\n",
    "\n",
    "    def __getitem__(self, idx):\n",
    "        \"\"\"Implements `x = self[idx]`\"\"\"\n",
    "        return self.x\n",
    "\n",
    "    def __setitem__(self, idx, value):\n",
    "        \"\"\"Implements `self[idx] = x`\"\"\"\n",
    "        self.x = value\n",
    "\n",
    "    def __repr__(self):\n",
    "        \"\"\"Supports inspection\"\"\"\n",
    "        return '[' + str(self.x) + ']'"
   ]
  },
  {
   "cell_type": "code",
   "execution_count": 23,
   "metadata": {},
   "outputs": [
    {
     "data": {
      "text/plain": [
       "20"
      ]
     },
     "execution_count": 23,
     "metadata": {},
     "output_type": "execute_result"
    }
   ],
   "source": [
    "l = List()\n",
    "l.append(10)\n",
    "l[0] = 20\n",
    "l[0]"
   ]
  },
  {
   "cell_type": "code",
   "execution_count": 24,
   "metadata": {},
   "outputs": [],
   "source": [
    "l.append(20)"
   ]
  },
  {
   "cell_type": "code",
   "execution_count": 28,
   "metadata": {},
   "outputs": [
    {
     "data": {
      "text/plain": [
       "(20, 20)"
      ]
     },
     "execution_count": 28,
     "metadata": {},
     "output_type": "execute_result"
    }
   ],
   "source": [
    "l[0], l[1]"
   ]
  },
  {
   "cell_type": "code",
   "execution_count": 35,
   "metadata": {},
   "outputs": [
    {
     "data": {
      "text/plain": [
       "'hello'"
      ]
     },
     "execution_count": 35,
     "metadata": {},
     "output_type": "execute_result"
    }
   ],
   "source": [
    "l[1001] = 'hello'\n",
    "l[0]"
   ]
  },
  {
   "cell_type": "code",
   "execution_count": 30,
   "metadata": {},
   "outputs": [
    {
     "data": {
      "text/plain": [
       "(10, 20)"
      ]
     },
     "execution_count": 30,
     "metadata": {},
     "output_type": "execute_result"
    }
   ],
   "source": [
    "m = []\n",
    "m.append(10)\n",
    "m.append(20)\n",
    "m[0], m[1]"
   ]
  },
  {
   "cell_type": "markdown",
   "metadata": {},
   "source": [
    "## 5.  Built-in `list` as array\n",
    "\n"
   ]
  },
  {
   "cell_type": "markdown",
   "metadata": {},
   "source": [
    "To use the built-in list as though it were a primitive array, we will\n",
    "constrain ourselves to just the following APIs on a given list `lst`:\n",
    "\n",
    "1.  `lst[i]` for getting and setting values at an *existing, positive*\n",
    "    index `i`\n",
    "2.  `len(lst)` to obtain the number of slots\n",
    "3.  `lst.append(None)` to grow the list by *one slot at a time*\n",
    "4.  `del lst[len(lst)-1]` to delete the last slot in a list\n",
    "\n"
   ]
  },
  {
   "cell_type": "markdown",
   "metadata": {},
   "source": [
    "## 6.  The `ArrayList` data structure\n",
    "\n"
   ]
  },
  {
   "cell_type": "code",
   "execution_count": 48,
   "metadata": {},
   "outputs": [],
   "source": [
    "class ArrayList:\n",
    "    def __init__(self):\n",
    "        self.data = [] # our backing \"array\"\n",
    "\n",
    "    def append(self, value):\n",
    "        self.data.append(None) # add a new slot to my array\n",
    "        self.data[len(self.data)-1] = value # put value in last slot of array\n",
    "    \n",
    "    # underscore prefix methods are not meant to be called from outside the class (private method in Java)\n",
    "    def _normalize_idx(self, idx): # builds in support for negative indices\n",
    "        if idx < 0:\n",
    "            idx = len(self.data) + idx # adjusts negative index to an actual index\n",
    "        return idx\n",
    "\n",
    "    def __getitem__(self, idx):\n",
    "        \"\"\"Implements `x = self[idx]`\"\"\"\n",
    "        assert(isinstance(idx, int)) # checks if the index is an integer\n",
    "        idx = self._normalize_idx(idx)\n",
    "        if idx < 0 or idx >= len(self.data):\n",
    "            raise IndexError(\"index out of range\") # raises IndexError if the index is still not a valid index\n",
    "        return self.data[idx]\n",
    "\n",
    "    def __setitem__(self, idx, value):\n",
    "        \"\"\"Implements `self[idx] = x`\"\"\"\n",
    "        assert(isinstance(idx, int))\n",
    "        idx = self._normalize_idx(idx)\n",
    "        if idx < 0 or idx >= len(self.data):\n",
    "            raise IndexError(\"index out of range\") # raises IndexError if the index is still not a valid index\n",
    "        self.data[idx] = value\n",
    "\n",
    "    def __delitem__(self, idx):\n",
    "        \"\"\"Implements `del self[idx]`\"\"\"\n",
    "        assert(isinstance(idx, int))\n",
    "        idx = self._normalize_idx(idx)\n",
    "        if idx < 0 or idx >= len(self.data):\n",
    "            raise IndexError(\"index out of range\") # raises IndexError if the index is still not a valid index\n",
    "        for i in range(idx, len(self.data)-1):\n",
    "            self.data[i] = self.data[i+1]\n",
    "        del self.data[len(self.data)-1]\n",
    "        \n",
    "    def __len__(self):\n",
    "        \"\"\"Implements `len(self)`\"\"\"\n",
    "        return len(self.data)\n",
    "\n",
    "    def __repr__(self):\n",
    "        \"\"\"Supports inspection\"\"\"\n",
    "        s = '['\n",
    "        for i in range(len(self)):\n",
    "            if i < len(self)-1:\n",
    "                s += str(self[i]) + ', '\n",
    "            else:\n",
    "                s += str(self[i])\n",
    "        s += ']'\n",
    "        return s"
   ]
  },
  {
   "cell_type": "code",
   "execution_count": 49,
   "metadata": {},
   "outputs": [],
   "source": [
    "l = ArrayList()\n",
    "for x in range(10):\n",
    "    l.append(x)"
   ]
  },
  {
   "cell_type": "code",
   "execution_count": 50,
   "metadata": {
    "scrolled": true
   },
   "outputs": [
    {
     "name": "stdout",
     "output_type": "stream",
     "text": [
      "0\n",
      "1\n",
      "2\n",
      "3\n",
      "4\n",
      "5\n",
      "6\n",
      "7\n",
      "8\n",
      "9\n"
     ]
    }
   ],
   "source": [
    "for i in range(10):\n",
    "    print(l[i])"
   ]
  },
  {
   "cell_type": "code",
   "execution_count": 51,
   "metadata": {},
   "outputs": [
    {
     "data": {
      "text/plain": [
       "[0, 1, 2, 3, 4, 5, 6, 7, 8, 9]"
      ]
     },
     "execution_count": 51,
     "metadata": {},
     "output_type": "execute_result"
    }
   ],
   "source": [
    "l"
   ]
  },
  {
   "cell_type": "code",
   "execution_count": 20,
   "metadata": {},
   "outputs": [],
   "source": [
    "l[-1] = 100"
   ]
  },
  {
   "cell_type": "code",
   "execution_count": 21,
   "metadata": {
    "scrolled": true
   },
   "outputs": [
    {
     "data": {
      "text/plain": [
       "[0, 1, 2, 3, 4, 5, 6, 7, 8, 100]"
      ]
     },
     "execution_count": 21,
     "metadata": {},
     "output_type": "execute_result"
    }
   ],
   "source": [
    "l.data # a cheat"
   ]
  },
  {
   "cell_type": "code",
   "execution_count": 36,
   "metadata": {
    "scrolled": true
   },
   "outputs": [],
   "source": [
    "del l[-1]"
   ]
  },
  {
   "cell_type": "code",
   "execution_count": 37,
   "metadata": {},
   "outputs": [
    {
     "data": {
      "text/plain": [
       "[0, 1]"
      ]
     },
     "execution_count": 37,
     "metadata": {},
     "output_type": "execute_result"
    }
   ],
   "source": [
    "l.data"
   ]
  },
  {
   "cell_type": "markdown",
   "metadata": {},
   "source": [
    "## Discussion (Runtime Complexity)\n",
    "\n",
    "* **insertion**: amortized O(1)\n",
    "* **deletion**: O(n)\n",
    "* **access an element at position i**: O(1)\n",
    "* **length**: O(1)"
   ]
  }
 ],
 "metadata": {
  "kernelspec": {
   "display_name": "Python 3",
   "language": "python",
   "name": "python3"
  },
  "language_info": {
   "codemirror_mode": {
    "name": "ipython",
    "version": 3
   },
   "file_extension": ".py",
   "mimetype": "text/x-python",
   "name": "python",
   "nbconvert_exporter": "python",
   "pygments_lexer": "ipython3",
   "version": "3.8.5"
  },
  "org": null
 },
 "nbformat": 4,
 "nbformat_minor": 1
}
